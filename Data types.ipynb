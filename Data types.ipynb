{
 "cells": [
  {
   "cell_type": "markdown",
   "id": "dc24a383",
   "metadata": {},
   "source": [
    "## Data types"
   ]
  },
  {
   "cell_type": "code",
   "execution_count": null,
   "id": "05475f19",
   "metadata": {},
   "outputs": [],
   "source": [
    "Numeric DT >> int, float, complex\n",
    "\n",
    "Text >> str\n",
    "\n",
    "Sequence/Iterables >> list, tuple, set, frozenset\n",
    "\n",
    "Mapping >> dict\n",
    "\n",
    "Boolean >> (bool)True, False\n",
    "            range, bytes, bytearray, None"
   ]
  },
  {
   "cell_type": "code",
   "execution_count": 3,
   "id": "ea91177f",
   "metadata": {},
   "outputs": [
    {
     "data": {
      "text/plain": [
       "set"
      ]
     },
     "execution_count": 3,
     "metadata": {},
     "output_type": "execute_result"
    }
   ],
   "source": [
    "a = {12,34,'HI'}\n",
    "type(a)"
   ]
  },
  {
   "cell_type": "code",
   "execution_count": 4,
   "id": "a81288f1",
   "metadata": {},
   "outputs": [
    {
     "data": {
      "text/plain": [
       "{12, 34, 'HI'}"
      ]
     },
     "execution_count": 4,
     "metadata": {},
     "output_type": "execute_result"
    }
   ],
   "source": [
    "a"
   ]
  },
  {
   "cell_type": "code",
   "execution_count": 5,
   "id": "6ce9eb9d",
   "metadata": {},
   "outputs": [
    {
     "data": {
      "text/plain": [
       "{'012': 'Mangesh'}"
      ]
     },
     "execution_count": 5,
     "metadata": {},
     "output_type": "execute_result"
    }
   ],
   "source": [
    "d1 = {'012':'Mangesh'}\n",
    "d1"
   ]
  },
  {
   "cell_type": "markdown",
   "id": "268acbff",
   "metadata": {},
   "source": [
    "### Int"
   ]
  },
  {
   "cell_type": "code",
   "execution_count": null,
   "id": "ed05b0f2",
   "metadata": {},
   "outputs": [],
   "source": [
    "any Real Number\n",
    "positive or negative\n",
    "number without decimal"
   ]
  },
  {
   "cell_type": "code",
   "execution_count": 6,
   "id": "4b08d3c5",
   "metadata": {},
   "outputs": [
    {
     "name": "stdout",
     "output_type": "stream",
     "text": [
      "12 <class 'int'>\n"
     ]
    }
   ],
   "source": [
    "a = 12\n",
    "print(a, type(a))"
   ]
  },
  {
   "cell_type": "code",
   "execution_count": 8,
   "id": "ccd512b5",
   "metadata": {},
   "outputs": [
    {
     "name": "stdout",
     "output_type": "stream",
     "text": [
      "-12 <class 'int'>\n"
     ]
    }
   ],
   "source": [
    "a = -12\n",
    "print(a, type(a))"
   ]
  },
  {
   "cell_type": "code",
   "execution_count": 9,
   "id": "71815ec3",
   "metadata": {},
   "outputs": [
    {
     "name": "stdout",
     "output_type": "stream",
     "text": [
      "0 <class 'int'>\n"
     ]
    }
   ],
   "source": [
    "a = 0\n",
    "print(a, type(a))"
   ]
  },
  {
   "cell_type": "markdown",
   "id": "6cbbb766",
   "metadata": {},
   "source": [
    "### Float"
   ]
  },
  {
   "cell_type": "code",
   "execution_count": null,
   "id": "a2a37567",
   "metadata": {},
   "outputs": [],
   "source": [
    "Any number with decimal \n",
    "positive or negative"
   ]
  },
  {
   "cell_type": "code",
   "execution_count": 10,
   "id": "678eca9a",
   "metadata": {},
   "outputs": [
    {
     "name": "stdout",
     "output_type": "stream",
     "text": [
      "12.0 <class 'float'>\n"
     ]
    }
   ],
   "source": [
    "a = 12.0\n",
    "print(a, type(a))"
   ]
  },
  {
   "cell_type": "code",
   "execution_count": 11,
   "id": "c0d73ab4",
   "metadata": {},
   "outputs": [
    {
     "name": "stdout",
     "output_type": "stream",
     "text": [
      "12.59 <class 'float'>\n"
     ]
    }
   ],
   "source": [
    "a = 12.59\n",
    "print(a, type(a))"
   ]
  },
  {
   "cell_type": "code",
   "execution_count": 12,
   "id": "128aff3f",
   "metadata": {},
   "outputs": [
    {
     "name": "stdout",
     "output_type": "stream",
     "text": [
      "-12.59 <class 'float'>\n"
     ]
    }
   ],
   "source": [
    "a = -12.59\n",
    "print(a, type(a))"
   ]
  },
  {
   "cell_type": "markdown",
   "id": "9e26e9cf",
   "metadata": {},
   "source": [
    "### Complex"
   ]
  },
  {
   "cell_type": "code",
   "execution_count": null,
   "id": "93b87923",
   "metadata": {},
   "outputs": [],
   "source": [
    "a + bj\n",
    "real + imaginary"
   ]
  },
  {
   "cell_type": "code",
   "execution_count": 13,
   "id": "9aee9012",
   "metadata": {},
   "outputs": [
    {
     "data": {
      "text/plain": [
       "complex"
      ]
     },
     "execution_count": 13,
     "metadata": {},
     "output_type": "execute_result"
    }
   ],
   "source": [
    "c1 = 12 + 4j\n",
    "type(c1)"
   ]
  },
  {
   "cell_type": "code",
   "execution_count": 16,
   "id": "d7d4374d",
   "metadata": {},
   "outputs": [
    {
     "data": {
      "text/plain": [
       "(12+4j)"
      ]
     },
     "execution_count": 16,
     "metadata": {},
     "output_type": "execute_result"
    }
   ],
   "source": [
    "c1 = 12 + 4j\n",
    "c1"
   ]
  },
  {
   "cell_type": "code",
   "execution_count": 21,
   "id": "9a146449",
   "metadata": {},
   "outputs": [
    {
     "data": {
      "text/plain": [
       "complex"
      ]
     },
     "execution_count": 21,
     "metadata": {},
     "output_type": "execute_result"
    }
   ],
   "source": [
    "c1 = 4j\n",
    "type(c1)"
   ]
  },
  {
   "cell_type": "code",
   "execution_count": 23,
   "id": "c24a8cad",
   "metadata": {},
   "outputs": [
    {
     "name": "stdout",
     "output_type": "stream",
     "text": [
      "(-12+4j) <class 'complex'>\n"
     ]
    }
   ],
   "source": [
    "c1 = -12 + 4j\n",
    "print(c1,type(c1))"
   ]
  },
  {
   "cell_type": "code",
   "execution_count": 24,
   "id": "2c5da0f6",
   "metadata": {},
   "outputs": [
    {
     "name": "stdout",
     "output_type": "stream",
     "text": [
      "(-12-4j) <class 'complex'>\n"
     ]
    }
   ],
   "source": [
    "c1 = -12 - 4j\n",
    "print(c1,type(c1))"
   ]
  },
  {
   "cell_type": "code",
   "execution_count": 25,
   "id": "469f1cf6",
   "metadata": {},
   "outputs": [
    {
     "name": "stdout",
     "output_type": "stream",
     "text": [
      "(-12.2-4j) <class 'complex'>\n"
     ]
    }
   ],
   "source": [
    "c1 = -12.2  - 4j\n",
    "print(c1,type(c1))"
   ]
  },
  {
   "cell_type": "code",
   "execution_count": 26,
   "id": "a866c2fa",
   "metadata": {},
   "outputs": [
    {
     "name": "stdout",
     "output_type": "stream",
     "text": [
      "(-12.2-4.2j) <class 'complex'>\n"
     ]
    }
   ],
   "source": [
    "c1 = -12.2  - 4.2j\n",
    "print(c1,type(c1))"
   ]
  },
  {
   "cell_type": "code",
   "execution_count": 27,
   "id": "26403e6a",
   "metadata": {},
   "outputs": [
    {
     "ename": "TypeError",
     "evalue": "unsupported operand type(s) for -: 'str' and 'complex'",
     "output_type": "error",
     "traceback": [
      "\u001b[1;31m---------------------------------------------------------------------------\u001b[0m",
      "\u001b[1;31mTypeError\u001b[0m                                 Traceback (most recent call last)",
      "Input \u001b[1;32mIn [27]\u001b[0m, in \u001b[0;36m<cell line: 1>\u001b[1;34m()\u001b[0m\n\u001b[1;32m----> 1\u001b[0m c1 \u001b[38;5;241m=\u001b[39m \u001b[38;5;124;43m'\u001b[39;49m\u001b[38;5;124;43mas\u001b[39;49m\u001b[38;5;124;43m'\u001b[39;49m\u001b[43m  \u001b[49m\u001b[38;5;241;43m-\u001b[39;49m\u001b[43m \u001b[49m\u001b[38;5;241;43m4.2\u001b[39;49m\u001b[43mj\u001b[49m\n\u001b[0;32m      2\u001b[0m \u001b[38;5;28mprint\u001b[39m(c1,\u001b[38;5;28mtype\u001b[39m(c1))\n",
      "\u001b[1;31mTypeError\u001b[0m: unsupported operand type(s) for -: 'str' and 'complex'"
     ]
    }
   ],
   "source": [
    "c1 = 'as'  - 4.2j\n",
    "print(c1,type(c1))"
   ]
  },
  {
   "cell_type": "code",
   "execution_count": null,
   "id": "42799625",
   "metadata": {},
   "outputs": [],
   "source": []
  },
  {
   "cell_type": "code",
   "execution_count": null,
   "id": "14239411",
   "metadata": {},
   "outputs": [],
   "source": []
  }
 ],
 "metadata": {
  "kernelspec": {
   "display_name": "Python 3 (ipykernel)",
   "language": "python",
   "name": "python3"
  },
  "language_info": {
   "codemirror_mode": {
    "name": "ipython",
    "version": 3
   },
   "file_extension": ".py",
   "mimetype": "text/x-python",
   "name": "python",
   "nbconvert_exporter": "python",
   "pygments_lexer": "ipython3",
   "version": "3.10.6"
  }
 },
 "nbformat": 4,
 "nbformat_minor": 5
}
