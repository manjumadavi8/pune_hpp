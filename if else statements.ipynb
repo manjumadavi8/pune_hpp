{
 "cells": [
  {
   "cell_type": "code",
   "execution_count": null,
   "id": "eacb3582",
   "metadata": {},
   "outputs": [],
   "source": [
    "a = 'python'\n",
    "b = 'class'\n",
    "\n",
    "# pyass\n",
    "# clthon"
   ]
  },
  {
   "cell_type": "code",
   "execution_count": null,
   "id": "183ef3ec",
   "metadata": {},
   "outputs": [],
   "source": [
    "new = 'if else statements.ipynb'"
   ]
  },
  {
   "cell_type": "code",
   "execution_count": 1,
   "id": "2c35c905",
   "metadata": {},
   "outputs": [
    {
     "name": "stdout",
     "output_type": "stream",
     "text": [
      "pyass\n",
      "clthon\n",
      "if else statements\n"
     ]
    }
   ],
   "source": [
    "a = 'python'\n",
    "b = 'class'\n",
    "\n",
    "print(a[:2] + b[2:])\n",
    "print(b[:2] + a[2:])\n",
    "new = 'if else statements.ipynb'\n",
    "\n",
    "list2 = new.split('.')\n",
    "print(list2[0])"
   ]
  },
  {
   "cell_type": "code",
   "execution_count": 2,
   "id": "56c0fa80",
   "metadata": {},
   "outputs": [
    {
     "name": "stdout",
     "output_type": "stream",
     "text": [
      "if else statements\n"
     ]
    }
   ],
   "source": [
    "new = 'if else statements.ipynb'\n",
    "c=new[0:(len(new)-6)]\n",
    "print(c)"
   ]
  },
  {
   "cell_type": "markdown",
   "id": "0e7e9bab",
   "metadata": {},
   "source": [
    "## if else statements"
   ]
  },
  {
   "cell_type": "code",
   "execution_count": null,
   "id": "efd4c864",
   "metadata": {},
   "outputs": [],
   "source": [
    "Decision Making Statements\n",
    "\n",
    "Conditional Statements"
   ]
  },
  {
   "cell_type": "code",
   "execution_count": null,
   "id": "b7314dea",
   "metadata": {},
   "outputs": [],
   "source": [
    "if \n",
    "elif (else if)\n",
    "else"
   ]
  },
  {
   "cell_type": "code",
   "execution_count": null,
   "id": "27e7c3d1",
   "metadata": {},
   "outputs": [],
   "source": [
    "if condition1:   # condition1 >> True/False\n",
    "    Block of code\n",
    "    statement1\n",
    "    statement2\n",
    "    statement3\n",
    "    \n",
    "elif condition2: # condition2 >> True/False\n",
    "    statement4\n",
    "    statement5\n",
    "    \n",
    "else:\n",
    "    statement6\n",
    "    statement7"
   ]
  },
  {
   "cell_type": "code",
   "execution_count": 3,
   "id": "09b791ac",
   "metadata": {},
   "outputs": [
    {
     "data": {
      "text/plain": [
       "False"
      ]
     },
     "execution_count": 3,
     "metadata": {},
     "output_type": "execute_result"
    }
   ],
   "source": [
    "if condition1:   # condition1 >> True/False\n",
    "    Block of code\n",
    "    statement1\n",
    "    statement2\n",
    "    statement3\n",
    "    \n",
    "elif condition2: # condition2 >> True/False\n",
    "    statement4\n",
    "    statement5\n",
    "    \n",
    "elif condition2: # condition2 >> True/False\n",
    "    statement4\n",
    "    statement5\n",
    "    \n",
    "else:\n",
    "    statement6\n",
    "    statement7"
   ]
  },
  {
   "cell_type": "code",
   "execution_count": null,
   "id": "4080ea00",
   "metadata": {},
   "outputs": [],
   "source": [
    "if\n",
    "if >> elif\n",
    "if >> elif >> elif\n",
    "if >> elif >> else \n",
    "if >> elif >> elif >> elif >> else"
   ]
  },
  {
   "cell_type": "code",
   "execution_count": 6,
   "id": "e05b652d",
   "metadata": {},
   "outputs": [
    {
     "name": "stdout",
     "output_type": "stream",
     "text": [
      "a is smaller than b\n"
     ]
    }
   ],
   "source": [
    "a = 45\n",
    "b = 60\n",
    "\n",
    "if a > b:  # False\n",
    "    print('a is greater than b')\n",
    "    \n",
    "else:\n",
    "    print('a is smaller than b')"
   ]
  },
  {
   "cell_type": "code",
   "execution_count": 7,
   "id": "c31cae15",
   "metadata": {},
   "outputs": [
    {
     "ename": "SyntaxError",
     "evalue": "expected ':' (2891999262.py, line 7)",
     "output_type": "error",
     "traceback": [
      "\u001b[1;36m  Input \u001b[1;32mIn [7]\u001b[1;36m\u001b[0m\n\u001b[1;33m    else b > a:\u001b[0m\n\u001b[1;37m         ^\u001b[0m\n\u001b[1;31mSyntaxError\u001b[0m\u001b[1;31m:\u001b[0m expected ':'\n"
     ]
    }
   ],
   "source": [
    "a = 45\n",
    "b = 60\n",
    "\n",
    "if a > b:  # False\n",
    "    print('a is greater than b')\n",
    "    \n",
    "else b > a:\n",
    "    print('a is smaller than b')a > b"
   ]
  },
  {
   "cell_type": "code",
   "execution_count": 8,
   "id": "e1881e44",
   "metadata": {},
   "outputs": [
    {
     "name": "stdout",
     "output_type": "stream",
     "text": [
      "a is smaller than b\n"
     ]
    }
   ],
   "source": [
    "a = 45\n",
    "b = 60\n",
    "\n",
    "if a > b:  # False\n",
    "    print('a is greater than b')\n",
    "    \n",
    "elif b > a:\n",
    "    print('a is smaller than b')"
   ]
  },
  {
   "cell_type": "code",
   "execution_count": 9,
   "id": "72b44ca7",
   "metadata": {},
   "outputs": [
    {
     "name": "stdout",
     "output_type": "stream",
     "text": [
      "a is greater than c\n"
     ]
    }
   ],
   "source": [
    "a = 45\n",
    "b = 60\n",
    "c = 40\n",
    "\n",
    "if a > b:  # False\n",
    "    print('a is greater than b')\n",
    "    \n",
    "elif a > c:\n",
    "    print('a is greater than c')"
   ]
  },
  {
   "cell_type": "code",
   "execution_count": 10,
   "id": "9e4ce6eb",
   "metadata": {},
   "outputs": [
    {
     "name": "stdout",
     "output_type": "stream",
     "text": [
      "y is greater than or equal to x\n"
     ]
    }
   ],
   "source": [
    "x = 500\n",
    "y = 500\n",
    "\n",
    "if x > y:\n",
    "    print('x is greater than y')\n",
    "    \n",
    "else:\n",
    "    print('y is greater than or equal to x')"
   ]
  },
  {
   "cell_type": "code",
   "execution_count": 11,
   "id": "b6511da1",
   "metadata": {},
   "outputs": [
    {
     "name": "stdout",
     "output_type": "stream",
     "text": [
      "x is greater than y\n",
      "y is smaller than x\n"
     ]
    }
   ],
   "source": [
    "x = 5000\n",
    "y = 500\n",
    "\n",
    "if x > y:\n",
    "    print('x is greater than y')\n",
    "    \n",
    "if x > y:\n",
    "    print('y is smaller than x')\n",
    "    \n",
    "else:\n",
    "    print('y is greater than or equal to x')"
   ]
  },
  {
   "cell_type": "code",
   "execution_count": 12,
   "id": "d016036f",
   "metadata": {},
   "outputs": [
    {
     "name": "stdout",
     "output_type": "stream",
     "text": [
      "String is in lower case\n"
     ]
    }
   ],
   "source": [
    "str1 = 'python'\n",
    "\n",
    "if str1.islower():\n",
    "    print('String is in lower case')\n",
    "    \n",
    "else:\n",
    "    print('String is not in lower case')"
   ]
  },
  {
   "cell_type": "code",
   "execution_count": 13,
   "id": "e342f85a",
   "metadata": {},
   "outputs": [
    {
     "name": "stdout",
     "output_type": "stream",
     "text": [
      "String is not in lower case\n"
     ]
    }
   ],
   "source": [
    "str1 = 'Python'\n",
    "\n",
    "if str1.islower():\n",
    "    print('String is in lower case')\n",
    "    \n",
    "else:\n",
    "    print('String is not in lower case')"
   ]
  },
  {
   "cell_type": "code",
   "execution_count": 14,
   "id": "21aac65e",
   "metadata": {},
   "outputs": [
    {
     "name": "stdout",
     "output_type": "stream",
     "text": [
      "String is in title case\n"
     ]
    }
   ],
   "source": [
    "str1 = 'Python'\n",
    "\n",
    "if str1.istitle():\n",
    "    print('String is in title case')\n",
    "    \n",
    "else:\n",
    "    print('String is not in title case')"
   ]
  },
  {
   "cell_type": "code",
   "execution_count": 15,
   "id": "f0ebdc0e",
   "metadata": {},
   "outputs": [
    {
     "name": "stdout",
     "output_type": "stream",
     "text": [
      "String is in title case\n"
     ]
    }
   ],
   "source": [
    "str1 = 'Machine Learning'\n",
    "\n",
    "if str1.istitle():\n",
    "    print('String is in title case')\n",
    "    \n",
    "else:\n",
    "    print('String is not in title case')"
   ]
  },
  {
   "cell_type": "code",
   "execution_count": 16,
   "id": "93b41235",
   "metadata": {},
   "outputs": [
    {
     "name": "stdout",
     "output_type": "stream",
     "text": [
      "String is not in title case\n"
     ]
    }
   ],
   "source": [
    "str1 = 'Machine learning'\n",
    "\n",
    "if str1.istitle():\n",
    "    print('String is in title case')\n",
    "    \n",
    "else:\n",
    "    print('String is not in title case')"
   ]
  },
  {
   "cell_type": "markdown",
   "id": "f155e235",
   "metadata": {},
   "source": [
    "## Operators"
   ]
  },
  {
   "cell_type": "markdown",
   "id": "054c6261",
   "metadata": {},
   "source": [
    "### 1. Comparison Operator"
   ]
  },
  {
   "cell_type": "code",
   "execution_count": null,
   "id": "d0c4a785",
   "metadata": {},
   "outputs": [],
   "source": [
    "a == b    # Equal operator\n",
    "a != b    # not equal\n",
    "a > b     # greater than\n",
    "a < b     # smaller than\n",
    "a >= b    # greater than equals to\n",
    "a <= b    # smaller than equals to"
   ]
  },
  {
   "cell_type": "code",
   "execution_count": 17,
   "id": "9cfccd66",
   "metadata": {},
   "outputs": [
    {
     "data": {
      "text/plain": [
       "True"
      ]
     },
     "execution_count": 17,
     "metadata": {},
     "output_type": "execute_result"
    }
   ],
   "source": [
    "a = 5\n",
    "b = 5\n",
    "a == b"
   ]
  },
  {
   "cell_type": "code",
   "execution_count": 18,
   "id": "b778f09c",
   "metadata": {},
   "outputs": [
    {
     "data": {
      "text/plain": [
       "False"
      ]
     },
     "execution_count": 18,
     "metadata": {},
     "output_type": "execute_result"
    }
   ],
   "source": [
    "a = 5\n",
    "b = 5.1\n",
    "a == b"
   ]
  },
  {
   "cell_type": "code",
   "execution_count": 19,
   "id": "665d0d16",
   "metadata": {},
   "outputs": [
    {
     "data": {
      "text/plain": [
       "True"
      ]
     },
     "execution_count": 19,
     "metadata": {},
     "output_type": "execute_result"
    }
   ],
   "source": [
    "a = 5\n",
    "b = 5.1\n",
    "a != b"
   ]
  },
  {
   "cell_type": "code",
   "execution_count": 20,
   "id": "d20dff1e",
   "metadata": {},
   "outputs": [
    {
     "data": {
      "text/plain": [
       "False"
      ]
     },
     "execution_count": 20,
     "metadata": {},
     "output_type": "execute_result"
    }
   ],
   "source": [
    "a = 5\n",
    "b = 5\n",
    "a != b"
   ]
  },
  {
   "cell_type": "code",
   "execution_count": 21,
   "id": "8e555b99",
   "metadata": {},
   "outputs": [
    {
     "data": {
      "text/plain": [
       "True"
      ]
     },
     "execution_count": 21,
     "metadata": {},
     "output_type": "execute_result"
    }
   ],
   "source": [
    "a = 'python'\n",
    "b = 'python'\n",
    "a == b"
   ]
  },
  {
   "cell_type": "code",
   "execution_count": 22,
   "id": "5591780a",
   "metadata": {},
   "outputs": [
    {
     "data": {
      "text/plain": [
       "False"
      ]
     },
     "execution_count": 22,
     "metadata": {},
     "output_type": "execute_result"
    }
   ],
   "source": [
    "a = 'python'\n",
    "b = 'python '\n",
    "a == b"
   ]
  },
  {
   "cell_type": "code",
   "execution_count": 23,
   "id": "564dae18",
   "metadata": {},
   "outputs": [
    {
     "data": {
      "text/plain": [
       "False"
      ]
     },
     "execution_count": 23,
     "metadata": {},
     "output_type": "execute_result"
    }
   ],
   "source": [
    "a = 'Python'\n",
    "b = 'python'\n",
    "a == b"
   ]
  },
  {
   "cell_type": "code",
   "execution_count": 24,
   "id": "2d4f8e26",
   "metadata": {},
   "outputs": [
    {
     "name": "stdout",
     "output_type": "stream",
     "text": [
      "Both Strings are not same\n"
     ]
    }
   ],
   "source": [
    "a = 'python'\n",
    "b = 'python '\n",
    "if a == b:\n",
    "    print('Both Strings are same')\n",
    "    \n",
    "else:\n",
    "    print('Both Strings are not same')"
   ]
  },
  {
   "cell_type": "code",
   "execution_count": 25,
   "id": "b7c8a24e",
   "metadata": {},
   "outputs": [
    {
     "name": "stdout",
     "output_type": "stream",
     "text": [
      "Both Strings are not same\n"
     ]
    }
   ],
   "source": [
    "a = 'python'\n",
    "b = 'Python '\n",
    "if a == b:\n",
    "    print('Both Strings are same')\n",
    "    \n",
    "else:\n",
    "    print('Both Strings are not same')"
   ]
  },
  {
   "cell_type": "code",
   "execution_count": 26,
   "id": "18b9ce60",
   "metadata": {},
   "outputs": [
    {
     "name": "stdout",
     "output_type": "stream",
     "text": [
      "Both Strings are not same\n"
     ]
    }
   ],
   "source": [
    "a = 'python'\n",
    "b = 'Python'\n",
    "if a != b:\n",
    "    print('Both Strings are not same')\n",
    "    \n",
    "else:\n",
    "    print('Both Strings are same')"
   ]
  },
  {
   "cell_type": "code",
   "execution_count": 27,
   "id": "3a7c471d",
   "metadata": {},
   "outputs": [
    {
     "name": "stdout",
     "output_type": "stream",
     "text": [
      "Both Strings are same\n"
     ]
    }
   ],
   "source": [
    "a = 'python'\n",
    "b = 'python'\n",
    "if a != b:\n",
    "    print('Both Strings are not same')\n",
    "    \n",
    "else:\n",
    "    print('Both Strings are same')"
   ]
  },
  {
   "cell_type": "code",
   "execution_count": 28,
   "id": "0c7aa4b7",
   "metadata": {},
   "outputs": [
    {
     "data": {
      "text/plain": [
       "True"
      ]
     },
     "execution_count": 28,
     "metadata": {},
     "output_type": "execute_result"
    }
   ],
   "source": [
    "10 > 5"
   ]
  },
  {
   "cell_type": "code",
   "execution_count": 29,
   "id": "d38e3f3c",
   "metadata": {},
   "outputs": [
    {
     "data": {
      "text/plain": [
       "False"
      ]
     },
     "execution_count": 29,
     "metadata": {},
     "output_type": "execute_result"
    }
   ],
   "source": [
    "10 > 10"
   ]
  },
  {
   "cell_type": "code",
   "execution_count": 30,
   "id": "aa79133d",
   "metadata": {},
   "outputs": [
    {
     "data": {
      "text/plain": [
       "True"
      ]
     },
     "execution_count": 30,
     "metadata": {},
     "output_type": "execute_result"
    }
   ],
   "source": [
    "10 >= 10"
   ]
  },
  {
   "cell_type": "code",
   "execution_count": 31,
   "id": "86622598",
   "metadata": {},
   "outputs": [
    {
     "data": {
      "text/plain": [
       "True"
      ]
     },
     "execution_count": 31,
     "metadata": {},
     "output_type": "execute_result"
    }
   ],
   "source": [
    "10 <= 10"
   ]
  },
  {
   "cell_type": "code",
   "execution_count": 33,
   "id": "6a345989",
   "metadata": {},
   "outputs": [
    {
     "data": {
      "text/plain": [
       "True"
      ]
     },
     "execution_count": 33,
     "metadata": {},
     "output_type": "execute_result"
    }
   ],
   "source": [
    "str1 = 'Data'\n",
    "len(str1) > 3"
   ]
  },
  {
   "cell_type": "code",
   "execution_count": 34,
   "id": "70001d95",
   "metadata": {},
   "outputs": [
    {
     "ename": "TypeError",
     "evalue": "'>' not supported between instances of 'str' and 'int'",
     "output_type": "error",
     "traceback": [
      "\u001b[1;31m---------------------------------------------------------------------------\u001b[0m",
      "\u001b[1;31mTypeError\u001b[0m                                 Traceback (most recent call last)",
      "Input \u001b[1;32mIn [34]\u001b[0m, in \u001b[0;36m<cell line: 1>\u001b[1;34m()\u001b[0m\n\u001b[1;32m----> 1\u001b[0m \u001b[38;5;124;43m'\u001b[39;49m\u001b[38;5;124;43mStr1\u001b[39;49m\u001b[38;5;124;43m'\u001b[39;49m\u001b[43m \u001b[49m\u001b[38;5;241;43m>\u001b[39;49m\u001b[43m \u001b[49m\u001b[38;5;241;43m3\u001b[39;49m\n",
      "\u001b[1;31mTypeError\u001b[0m: '>' not supported between instances of 'str' and 'int'"
     ]
    }
   ],
   "source": [
    "'Str1' > 3"
   ]
  },
  {
   "cell_type": "code",
   "execution_count": 35,
   "id": "419f46cc",
   "metadata": {},
   "outputs": [
    {
     "data": {
      "text/plain": [
       "False"
      ]
     },
     "execution_count": 35,
     "metadata": {},
     "output_type": "execute_result"
    }
   ],
   "source": [
    "'Str1' > 'Str2'"
   ]
  },
  {
   "cell_type": "code",
   "execution_count": 38,
   "id": "19a5ba68",
   "metadata": {},
   "outputs": [
    {
     "name": "stdout",
     "output_type": "stream",
     "text": [
      "String is in Title Case\n"
     ]
    }
   ],
   "source": [
    "str2 = 'Machine Learning'\n",
    "\n",
    "if str2.istitle():\n",
    "    print('String is in Title Case')"
   ]
  },
  {
   "cell_type": "code",
   "execution_count": 39,
   "id": "e63b1498",
   "metadata": {},
   "outputs": [],
   "source": [
    "str2 = 'Machine learning'\n",
    "\n",
    "if str2.istitle():\n",
    "    print('String is in Title Case')"
   ]
  },
  {
   "cell_type": "code",
   "execution_count": 40,
   "id": "bacf63e1",
   "metadata": {},
   "outputs": [
    {
     "name": "stdout",
     "output_type": "stream",
     "text": [
      "Hello\n"
     ]
    }
   ],
   "source": [
    "str2 = 'Machine learning'\n",
    "\n",
    "if str2.istitle():\n",
    "    print('String is in Title Case')\n",
    "    \n",
    "print('Hello')"
   ]
  },
  {
   "cell_type": "code",
   "execution_count": 41,
   "id": "4f1cce02",
   "metadata": {},
   "outputs": [
    {
     "name": "stdout",
     "output_type": "stream",
     "text": [
      "String is in Title Case\n",
      "Hello\n"
     ]
    }
   ],
   "source": [
    "str2 = 'Machine Learning'\n",
    "\n",
    "if str2.istitle():\n",
    "    print('String is in Title Case')\n",
    "    \n",
    "print('Hello')"
   ]
  },
  {
   "cell_type": "code",
   "execution_count": 42,
   "id": "b99ad02b",
   "metadata": {},
   "outputs": [
    {
     "ename": "SyntaxError",
     "evalue": "expected ':' (2649335401.py, line 4)",
     "output_type": "error",
     "traceback": [
      "\u001b[1;36m  Input \u001b[1;32mIn [42]\u001b[1;36m\u001b[0m\n\u001b[1;33m    if a > b\u001b[0m\n\u001b[1;37m            ^\u001b[0m\n\u001b[1;31mSyntaxError\u001b[0m\u001b[1;31m:\u001b[0m expected ':'\n"
     ]
    }
   ],
   "source": [
    "a = 1\n",
    "b = 2\n",
    "\n",
    "if a > b\n",
    "    print('A is bigger')"
   ]
  },
  {
   "cell_type": "code",
   "execution_count": 44,
   "id": "175ef46d",
   "metadata": {},
   "outputs": [
    {
     "name": "stdout",
     "output_type": "stream",
     "text": [
      "A is bigger\n"
     ]
    }
   ],
   "source": [
    "a = 11\n",
    "b = 2\n",
    "\n",
    "if a > b:\n",
    "    print('A is bigger')"
   ]
  },
  {
   "cell_type": "code",
   "execution_count": 46,
   "id": "393a859b",
   "metadata": {},
   "outputs": [
    {
     "name": "stdout",
     "output_type": "stream",
     "text": [
      "11 is bigger than 2\n"
     ]
    }
   ],
   "source": [
    "a = 11\n",
    "b = 2\n",
    "\n",
    "if a > b:\n",
    "    print(f'{a} is bigger than {b}')"
   ]
  },
  {
   "cell_type": "markdown",
   "id": "9d11b5b3",
   "metadata": {},
   "source": [
    "### 2. Logical Operators"
   ]
  },
  {
   "cell_type": "code",
   "execution_count": null,
   "id": "11601a5b",
   "metadata": {},
   "outputs": [],
   "source": [
    "1. and\n",
    "2. or\n",
    "\n",
    "1. and operator:\n",
    "    True and True  >> True\n",
    "    True and False >> False\n",
    "    False and True >> False\n",
    "    False and False >> False \n",
    "    \n",
    "2. or operator:\n",
    "    True or True  >> True\n",
    "    True or False >> True\n",
    "    False or True >> True\n",
    "    False or False >> False "
   ]
  },
  {
   "cell_type": "code",
   "execution_count": 47,
   "id": "b435486e",
   "metadata": {},
   "outputs": [
    {
     "name": "stdout",
     "output_type": "stream",
     "text": [
      "a is greater than b and c\n"
     ]
    }
   ],
   "source": [
    "a = 50\n",
    "b = 20 \n",
    "c = 30\n",
    "\n",
    "if a > b and a > c:  # True and True >> True\n",
    "    print('a is greater than b and c')"
   ]
  },
  {
   "cell_type": "code",
   "execution_count": 48,
   "id": "ccd5b73c",
   "metadata": {},
   "outputs": [],
   "source": [
    "a = 50\n",
    "b = 60 \n",
    "c = 30\n",
    "\n",
    "if a > b and a > c:  # False and True >> False\n",
    "    print('a is greater than b and c')"
   ]
  },
  {
   "cell_type": "code",
   "execution_count": 49,
   "id": "c4126914",
   "metadata": {},
   "outputs": [],
   "source": [
    "a = 50\n",
    "b = 60 \n",
    "c = 30\n",
    "d = 40\n",
    "\n",
    "if a > b and a > c and a > d:  # False and True and True >> False\n",
    "    print('a is greater than b and c and d')"
   ]
  },
  {
   "cell_type": "code",
   "execution_count": 50,
   "id": "9ffeafd7",
   "metadata": {},
   "outputs": [
    {
     "name": "stdout",
     "output_type": "stream",
     "text": [
      "a is greater than b and c and d\n"
     ]
    }
   ],
   "source": [
    "a = 500\n",
    "b = 60 \n",
    "c = 30\n",
    "d = 40\n",
    "\n",
    "if a > b and a > c and a > d:  # True and True and True >> True\n",
    "    print('a is greater than b and c and d')"
   ]
  },
  {
   "cell_type": "code",
   "execution_count": 51,
   "id": "17b18ee2",
   "metadata": {},
   "outputs": [],
   "source": [
    "a = 5\n",
    "b = 6\n",
    "c = 7\n",
    "\n",
    "if a > b or a > c:  # False or False >> False\n",
    "    print('a is greater than b and c')"
   ]
  },
  {
   "cell_type": "code",
   "execution_count": 52,
   "id": "ddc7da79",
   "metadata": {},
   "outputs": [
    {
     "name": "stdout",
     "output_type": "stream",
     "text": [
      "a is greater than either b and c\n"
     ]
    }
   ],
   "source": [
    "a = 50\n",
    "b = 6\n",
    "c = 7\n",
    "\n",
    "if a > b or a > c:  # True or False >> True\n",
    "    print('a is greater than either b and c')"
   ]
  },
  {
   "cell_type": "code",
   "execution_count": 54,
   "id": "90222238",
   "metadata": {},
   "outputs": [
    {
     "name": "stdout",
     "output_type": "stream",
     "text": [
      "a is greater than either b and c\n"
     ]
    }
   ],
   "source": [
    "a = 50\n",
    "b = 60\n",
    "c = 7\n",
    "\n",
    "if a > b or a > c:  # False or True >> True\n",
    "    print('a is greater than either b and c')"
   ]
  },
  {
   "cell_type": "code",
   "execution_count": 55,
   "id": "eab65732",
   "metadata": {},
   "outputs": [
    {
     "name": "stdout",
     "output_type": "stream",
     "text": [
      "a is greater than either b and c and d\n"
     ]
    }
   ],
   "source": [
    "a = 50\n",
    "b = 60\n",
    "c = 7\n",
    "d = 8\n",
    "\n",
    "if a > b or a > c or a >d:  # False or True or True >> True\n",
    "    print('a is greater than either b and c and d')"
   ]
  },
  {
   "cell_type": "code",
   "execution_count": 56,
   "id": "004e14f6",
   "metadata": {},
   "outputs": [
    {
     "name": "stdout",
     "output_type": "stream",
     "text": [
      "a is greater than either b and c and d\n"
     ]
    }
   ],
   "source": [
    "a = 50\n",
    "b = 60\n",
    "c = 7\n",
    "d = 8\n",
    "\n",
    "if (a > b or a > c) and a >d:  # (False or True >> True) and True >> True\n",
    "    print('a is greater than either b and c and d')"
   ]
  },
  {
   "cell_type": "code",
   "execution_count": 57,
   "id": "87ea864f",
   "metadata": {},
   "outputs": [
    {
     "name": "stdout",
     "output_type": "stream",
     "text": [
      "c is the largest number\n"
     ]
    }
   ],
   "source": [
    "a = 10\n",
    "b = 20 \n",
    "c = 30\n",
    "\n",
    "if  a > b and a > c:  # False\n",
    "    print('a is the largest number')\n",
    "    \n",
    "elif b > a and b > c: # False\n",
    "    print('b is the largest number')\n",
    "    \n",
    "else:\n",
    "    print('c is the largest number')"
   ]
  },
  {
   "cell_type": "code",
   "execution_count": 58,
   "id": "0f028bb3",
   "metadata": {},
   "outputs": [
    {
     "name": "stdout",
     "output_type": "stream",
     "text": [
      "a is the largest number\n"
     ]
    }
   ],
   "source": [
    "a = 100\n",
    "b = 20 \n",
    "c = 30\n",
    "\n",
    "if  a > b and a > c:  # True\n",
    "    print('a is the largest number')\n",
    "    \n",
    "elif b > a and b > c: # False\n",
    "    print('b is the largest number')\n",
    "    \n",
    "else:\n",
    "    print('c is the largest number')"
   ]
  },
  {
   "cell_type": "code",
   "execution_count": 59,
   "id": "aba2e8c7",
   "metadata": {},
   "outputs": [
    {
     "name": "stdout",
     "output_type": "stream",
     "text": [
      "b is the largest number\n"
     ]
    }
   ],
   "source": [
    "a = 100\n",
    "b = 200\n",
    "c = 30\n",
    "\n",
    "if  a > b and a > c:  # False\n",
    "    print('a is the largest number')\n",
    "    \n",
    "elif b > a and b > c: # True\n",
    "    print('b is the largest number')\n",
    "    \n",
    "else:\n",
    "    print('c is the largest number')"
   ]
  },
  {
   "cell_type": "markdown",
   "id": "a70267c4",
   "metadata": {},
   "source": [
    "## User Inputs"
   ]
  },
  {
   "cell_type": "code",
   "execution_count": null,
   "id": "79384c0a",
   "metadata": {},
   "outputs": [],
   "source": [
    "Default output will be in string"
   ]
  },
  {
   "cell_type": "code",
   "execution_count": 60,
   "id": "68e56721",
   "metadata": {},
   "outputs": [
    {
     "name": "stdout",
     "output_type": "stream",
     "text": [
      "\n"
     ]
    },
    {
     "data": {
      "text/plain": [
       "''"
      ]
     },
     "execution_count": 60,
     "metadata": {},
     "output_type": "execute_result"
    }
   ],
   "source": [
    "a = input()\n",
    "a"
   ]
  },
  {
   "cell_type": "code",
   "execution_count": 61,
   "id": "d0c7797e",
   "metadata": {},
   "outputs": [
    {
     "name": "stdout",
     "output_type": "stream",
     "text": [
      "Hello\n"
     ]
    },
    {
     "data": {
      "text/plain": [
       "str"
      ]
     },
     "execution_count": 61,
     "metadata": {},
     "output_type": "execute_result"
    }
   ],
   "source": [
    "a = input()\n",
    "type(a)"
   ]
  },
  {
   "cell_type": "code",
   "execution_count": 62,
   "id": "305104d7",
   "metadata": {},
   "outputs": [
    {
     "name": "stdout",
     "output_type": "stream",
     "text": [
      "12\n"
     ]
    },
    {
     "data": {
      "text/plain": [
       "'12'"
      ]
     },
     "execution_count": 62,
     "metadata": {},
     "output_type": "execute_result"
    }
   ],
   "source": [
    "a = input()\n",
    "a"
   ]
  },
  {
   "cell_type": "code",
   "execution_count": 63,
   "id": "444c0817",
   "metadata": {},
   "outputs": [
    {
     "name": "stdout",
     "output_type": "stream",
     "text": [
      "12\n"
     ]
    },
    {
     "data": {
      "text/plain": [
       "12"
      ]
     },
     "execution_count": 63,
     "metadata": {},
     "output_type": "execute_result"
    }
   ],
   "source": [
    "a = input()\n",
    "a = int(a)\n",
    "a"
   ]
  },
  {
   "cell_type": "code",
   "execution_count": 64,
   "id": "a18ae4b6",
   "metadata": {},
   "outputs": [
    {
     "name": "stdout",
     "output_type": "stream",
     "text": [
      "hi\n"
     ]
    },
    {
     "ename": "ValueError",
     "evalue": "invalid literal for int() with base 10: 'hi'",
     "output_type": "error",
     "traceback": [
      "\u001b[1;31m---------------------------------------------------------------------------\u001b[0m",
      "\u001b[1;31mValueError\u001b[0m                                Traceback (most recent call last)",
      "Input \u001b[1;32mIn [64]\u001b[0m, in \u001b[0;36m<cell line: 2>\u001b[1;34m()\u001b[0m\n\u001b[0;32m      1\u001b[0m a \u001b[38;5;241m=\u001b[39m \u001b[38;5;28minput\u001b[39m()\n\u001b[1;32m----> 2\u001b[0m a \u001b[38;5;241m=\u001b[39m \u001b[38;5;28;43mint\u001b[39;49m\u001b[43m(\u001b[49m\u001b[43ma\u001b[49m\u001b[43m)\u001b[49m\n\u001b[0;32m      3\u001b[0m a\n",
      "\u001b[1;31mValueError\u001b[0m: invalid literal for int() with base 10: 'hi'"
     ]
    }
   ],
   "source": [
    "a = input()\n",
    "a = int(a)\n",
    "a"
   ]
  },
  {
   "cell_type": "code",
   "execution_count": 65,
   "id": "6fb45dd4",
   "metadata": {},
   "outputs": [
    {
     "name": "stdout",
     "output_type": "stream",
     "text": [
      "45\n",
      "45 <class 'int'>\n"
     ]
    }
   ],
   "source": [
    "a = int(input())\n",
    "print(a, type(a))"
   ]
  },
  {
   "cell_type": "code",
   "execution_count": 66,
   "id": "bde60e79",
   "metadata": {},
   "outputs": [
    {
     "name": "stdout",
     "output_type": "stream",
     "text": [
      "20\n",
      "20.0 <class 'float'>\n"
     ]
    }
   ],
   "source": [
    "a = float(input())\n",
    "print(a, type(a))"
   ]
  },
  {
   "cell_type": "code",
   "execution_count": 67,
   "id": "ad46398f",
   "metadata": {},
   "outputs": [
    {
     "name": "stdout",
     "output_type": "stream",
     "text": [
      "21.02\n",
      "21.02 <class 'float'>\n"
     ]
    }
   ],
   "source": [
    "a = float(input())\n",
    "print(a, type(a))"
   ]
  },
  {
   "cell_type": "code",
   "execution_count": 68,
   "id": "b723d230",
   "metadata": {},
   "outputs": [
    {
     "name": "stdout",
     "output_type": "stream",
     "text": [
      "10.2\n"
     ]
    },
    {
     "ename": "ValueError",
     "evalue": "invalid literal for int() with base 10: '10.2'",
     "output_type": "error",
     "traceback": [
      "\u001b[1;31m---------------------------------------------------------------------------\u001b[0m",
      "\u001b[1;31mValueError\u001b[0m                                Traceback (most recent call last)",
      "Input \u001b[1;32mIn [68]\u001b[0m, in \u001b[0;36m<cell line: 1>\u001b[1;34m()\u001b[0m\n\u001b[1;32m----> 1\u001b[0m a \u001b[38;5;241m=\u001b[39m \u001b[38;5;28;43mint\u001b[39;49m\u001b[43m(\u001b[49m\u001b[38;5;28;43minput\u001b[39;49m\u001b[43m(\u001b[49m\u001b[43m)\u001b[49m\u001b[43m)\u001b[49m\n\u001b[0;32m      2\u001b[0m \u001b[38;5;28mprint\u001b[39m(a, \u001b[38;5;28mtype\u001b[39m(a))\n",
      "\u001b[1;31mValueError\u001b[0m: invalid literal for int() with base 10: '10.2'"
     ]
    }
   ],
   "source": [
    "a = int(input())\n",
    "print(a, type(a))"
   ]
  },
  {
   "cell_type": "code",
   "execution_count": 69,
   "id": "e86379e4",
   "metadata": {},
   "outputs": [
    {
     "name": "stdout",
     "output_type": "stream",
     "text": [
      "Enter a value:100.25\n",
      "100.25 <class 'float'>\n"
     ]
    }
   ],
   "source": [
    "a = float(input('Enter a value:'))\n",
    "print(a, type(a))"
   ]
  },
  {
   "cell_type": "code",
   "execution_count": 70,
   "id": "c35ddd97",
   "metadata": {},
   "outputs": [
    {
     "name": "stdout",
     "output_type": "stream",
     "text": [
      "Enter a value:12\n",
      "12 <class 'int'>\n"
     ]
    }
   ],
   "source": [
    "a = eval(input('Enter a value:'))\n",
    "print(a, type(a))"
   ]
  },
  {
   "cell_type": "code",
   "execution_count": 71,
   "id": "42701f49",
   "metadata": {},
   "outputs": [
    {
     "name": "stdout",
     "output_type": "stream",
     "text": [
      "Enter a value:12.5\n",
      "12.5 <class 'float'>\n"
     ]
    }
   ],
   "source": [
    "a = eval(input('Enter a value:'))\n",
    "print(a, type(a))"
   ]
  },
  {
   "cell_type": "code",
   "execution_count": 72,
   "id": "0283bc3b",
   "metadata": {},
   "outputs": [
    {
     "name": "stdout",
     "output_type": "stream",
     "text": [
      "Enter a value:'Hi'\n",
      "Hi <class 'str'>\n"
     ]
    }
   ],
   "source": [
    "a = eval(input('Enter a value:'))\n",
    "print(a, type(a))"
   ]
  },
  {
   "cell_type": "code",
   "execution_count": 73,
   "id": "522936e9",
   "metadata": {},
   "outputs": [
    {
     "name": "stdout",
     "output_type": "stream",
     "text": [
      "Enter a value:hi\n"
     ]
    },
    {
     "ename": "NameError",
     "evalue": "name 'hi' is not defined",
     "output_type": "error",
     "traceback": [
      "\u001b[1;31m---------------------------------------------------------------------------\u001b[0m",
      "\u001b[1;31mNameError\u001b[0m                                 Traceback (most recent call last)",
      "Input \u001b[1;32mIn [73]\u001b[0m, in \u001b[0;36m<cell line: 1>\u001b[1;34m()\u001b[0m\n\u001b[1;32m----> 1\u001b[0m a \u001b[38;5;241m=\u001b[39m \u001b[38;5;28;43meval\u001b[39;49m\u001b[43m(\u001b[49m\u001b[38;5;28;43minput\u001b[39;49m\u001b[43m(\u001b[49m\u001b[38;5;124;43m'\u001b[39;49m\u001b[38;5;124;43mEnter a value:\u001b[39;49m\u001b[38;5;124;43m'\u001b[39;49m\u001b[43m)\u001b[49m\u001b[43m)\u001b[49m\n\u001b[0;32m      2\u001b[0m \u001b[38;5;28mprint\u001b[39m(a, \u001b[38;5;28mtype\u001b[39m(a))\n",
      "File \u001b[1;32m<string>:1\u001b[0m, in \u001b[0;36m<module>\u001b[1;34m\u001b[0m\n",
      "\u001b[1;31mNameError\u001b[0m: name 'hi' is not defined"
     ]
    }
   ],
   "source": [
    "a = eval(input('Enter a value:'))\n",
    "print(a, type(a))"
   ]
  },
  {
   "cell_type": "code",
   "execution_count": 74,
   "id": "8e288cf0",
   "metadata": {},
   "outputs": [
    {
     "name": "stdout",
     "output_type": "stream",
     "text": [
      "Enter a value:hi\n",
      "hi <class 'str'>\n"
     ]
    }
   ],
   "source": [
    "a = input('Enter a value:')\n",
    "print(a, type(a))"
   ]
  },
  {
   "cell_type": "code",
   "execution_count": 75,
   "id": "9ad1f1bd",
   "metadata": {},
   "outputs": [
    {
     "name": "stdout",
     "output_type": "stream",
     "text": [
      "Enter a value:[1,2,3,'hi']\n",
      "[1, 2, 3, 'hi'] <class 'list'>\n"
     ]
    }
   ],
   "source": [
    "a = eval(input('Enter a value:'))\n",
    "print(a, type(a))"
   ]
  },
  {
   "cell_type": "code",
   "execution_count": 76,
   "id": "112149a7",
   "metadata": {},
   "outputs": [
    {
     "name": "stdout",
     "output_type": "stream",
     "text": [
      "Enter a value:1,2,3,4\n",
      "1,2,3,4 <class 'str'>\n"
     ]
    }
   ],
   "source": [
    "a = input('Enter a value:')\n",
    "print(a, type(a))"
   ]
  },
  {
   "cell_type": "code",
   "execution_count": 77,
   "id": "4d37f71f",
   "metadata": {},
   "outputs": [
    {
     "name": "stdout",
     "output_type": "stream",
     "text": [
      "Enter a value:[1, 2, 3, 'hi']\n",
      "[1, 2, 3, 'hi'] <class 'str'>\n"
     ]
    }
   ],
   "source": [
    "a = input('Enter a value:')\n",
    "print(a, type(a))"
   ]
  },
  {
   "cell_type": "code",
   "execution_count": 79,
   "id": "b3542f86",
   "metadata": {},
   "outputs": [
    {
     "name": "stdout",
     "output_type": "stream",
     "text": [
      "Enter Something:\"Velocity\"\n",
      "Velocity <class 'str'>\n"
     ]
    }
   ],
   "source": [
    "a = eval(input('Enter Something:'))\n",
    "print(a, type(a))"
   ]
  },
  {
   "cell_type": "code",
   "execution_count": 80,
   "id": "6e617fcd",
   "metadata": {},
   "outputs": [
    {
     "name": "stdout",
     "output_type": "stream",
     "text": [
      "Enter a value for a:35\n",
      "Enter a value for b:25\n",
      "Enter a value for c:40\n",
      "c is the largest number\n"
     ]
    }
   ],
   "source": [
    "a = int(input('Enter a value for a:'))\n",
    "b = int(input('Enter a value for b:'))\n",
    "c = int(input('Enter a value for c:'))\n",
    "\n",
    "if  a > b and a > c:  \n",
    "    print('a is the largest number')\n",
    "    \n",
    "elif b > a and b > c: \n",
    "    print('b is the largest number')\n",
    "    \n",
    "else:\n",
    "    print('c is the largest number')"
   ]
  },
  {
   "cell_type": "code",
   "execution_count": 81,
   "id": "a8a6c352",
   "metadata": {},
   "outputs": [
    {
     "name": "stdout",
     "output_type": "stream",
     "text": [
      "Enter a value for a:10.5\n",
      "Enter a value for b:15\n",
      "Enter a value for c:14.9\n",
      "b is the largest number\n"
     ]
    }
   ],
   "source": [
    "a = eval(input('Enter a value for a:'))\n",
    "b = eval(input('Enter a value for b:'))\n",
    "c = eval(input('Enter a value for c:'))\n",
    "\n",
    "if  a > b and a > c:  \n",
    "    print('a is the largest number')\n",
    "    \n",
    "elif b > a and b > c: \n",
    "    print('b is the largest number')\n",
    "    \n",
    "else:\n",
    "    print('c is the largest number')"
   ]
  },
  {
   "cell_type": "markdown",
   "id": "04b28472",
   "metadata": {},
   "source": [
    "### Nested if-else statemet"
   ]
  },
  {
   "cell_type": "code",
   "execution_count": null,
   "id": "1df251a4",
   "metadata": {},
   "outputs": [],
   "source": [
    "if statement inside if statement"
   ]
  },
  {
   "cell_type": "code",
   "execution_count": 85,
   "id": "5ac183af",
   "metadata": {},
   "outputs": [
    {
     "name": "stdout",
     "output_type": "stream",
     "text": [
      "a is greater than 50\n",
      "a is greater than 70\n",
      "a is greater than 75\n"
     ]
    }
   ],
   "source": [
    "a = 80\n",
    "if a > 50: # True\n",
    "    print('a is greater than 50')\n",
    "    \n",
    "    if a > 70:  # True:\n",
    "        print('a is greater than 70')\n",
    "        \n",
    "        if a > 75:  # True:\n",
    "            print('a is greater than 75')"
   ]
  },
  {
   "cell_type": "code",
   "execution_count": 86,
   "id": "aaf5bd01",
   "metadata": {},
   "outputs": [
    {
     "name": "stdout",
     "output_type": "stream",
     "text": [
      "a is greater than 50\n",
      "a is greater than 70\n",
      "a is greater than 75\n"
     ]
    }
   ],
   "source": [
    "a = 80\n",
    "if a > 50: # True\n",
    "    print('a is greater than 50')\n",
    "    \n",
    "    if a > 70:  # True:\n",
    "        print('a is greater than 70')\n",
    "        \n",
    "        if a > 75:  # True:\n",
    "            print('a is greater than 75')\n",
    "        \n",
    "        else:\n",
    "            print('a is less than 75')"
   ]
  },
  {
   "cell_type": "code",
   "execution_count": 87,
   "id": "c0a657ad",
   "metadata": {},
   "outputs": [
    {
     "name": "stdout",
     "output_type": "stream",
     "text": [
      "a is greater than 50\n",
      "a is greater than 70\n",
      "a is less than 75\n"
     ]
    }
   ],
   "source": [
    "a = 74\n",
    "if a > 50: # True\n",
    "    print('a is greater than 50')\n",
    "    \n",
    "    if a > 70:  # True:\n",
    "        print('a is greater than 70')\n",
    "        \n",
    "        if a > 75:  # False:\n",
    "            print('a is greater than 75')\n",
    "        \n",
    "        else:\n",
    "            print('a is less than 75')"
   ]
  },
  {
   "cell_type": "code",
   "execution_count": 88,
   "id": "493f1a75",
   "metadata": {},
   "outputs": [
    {
     "name": "stdout",
     "output_type": "stream",
     "text": [
      "a is greater than 50\n"
     ]
    }
   ],
   "source": [
    "a = 67\n",
    "if a > 50: # True\n",
    "    print('a is greater than 50')\n",
    "    \n",
    "    if a > 70:  # False:\n",
    "        print('a is greater than 70')\n",
    "        \n",
    "        if a > 75:  # False:\n",
    "            print('a is greater than 75')\n",
    "        \n",
    "        else:\n",
    "            print('a is less than 75')"
   ]
  },
  {
   "cell_type": "code",
   "execution_count": 89,
   "id": "da1a0db0",
   "metadata": {},
   "outputs": [
    {
     "name": "stdout",
     "output_type": "stream",
     "text": [
      "a is greater than 50\n",
      "a is less than 70\n"
     ]
    }
   ],
   "source": [
    "a = 67\n",
    "if a > 50: # True\n",
    "    print('a is greater than 50')\n",
    "    \n",
    "    if a > 70:  # False:\n",
    "        print('a is greater than 70')\n",
    "        \n",
    "        if a > 75:  # False:\n",
    "            print('a is greater than 75')\n",
    "        \n",
    "        else:\n",
    "            print('a is less than 75')\n",
    "            \n",
    "    else:\n",
    "        print('a is less than 70')"
   ]
  },
  {
   "cell_type": "code",
   "execution_count": 91,
   "id": "1c2b0378",
   "metadata": {},
   "outputs": [
    {
     "name": "stdout",
     "output_type": "stream",
     "text": [
      "a is less than 50\n"
     ]
    }
   ],
   "source": [
    "a = 44\n",
    "if a > 50: # False\n",
    "    print('a is greater than 50')\n",
    "    \n",
    "    if a > 70:  # False:\n",
    "        print('a is greater than 70')\n",
    "        \n",
    "        if a > 75:  # False:\n",
    "            print('a is greater than 75')\n",
    "        \n",
    "        else:\n",
    "            print('a is less than 75')\n",
    "            \n",
    "    else:\n",
    "        print('a is less than 70')\n",
    "        \n",
    "else:\n",
    "    print('a is less than 50')"
   ]
  },
  {
   "cell_type": "code",
   "execution_count": 94,
   "id": "903e3715",
   "metadata": {},
   "outputs": [
    {
     "name": "stdout",
     "output_type": "stream",
     "text": [
      "Enter a number less than 100:70\n",
      "a is greater than 50\n",
      "a is less than 70\n"
     ]
    }
   ],
   "source": [
    "a = eval(input('Enter a number less than 100:'))\n",
    "if a > 50: # False\n",
    "    print('a is greater than 50')\n",
    "    \n",
    "    if a > 70:  # False:\n",
    "        print('a is greater than 70')\n",
    "        \n",
    "        if a > 75:  # False:\n",
    "            print('a is greater than 75')\n",
    "        \n",
    "        else:\n",
    "            print('a is less than 75')\n",
    "            \n",
    "    else:\n",
    "        print('a is less than 70')\n",
    "        \n",
    "else:\n",
    "    print('a is less than 50')"
   ]
  },
  {
   "cell_type": "code",
   "execution_count": 97,
   "id": "4c29a3c7",
   "metadata": {},
   "outputs": [
    {
     "name": "stdout",
     "output_type": "stream",
     "text": [
      "CIBIL score is greater than 750  and is eligible for loan\n",
      "Salary is greater than 50000 and is elegible for loan\n",
      "Age is within criteria and you are eligible for loan\n",
      "Loan Approved !!\n"
     ]
    }
   ],
   "source": [
    "# Loan >> Approve/ Decline\n",
    "\n",
    "age = 25\n",
    "cibil_score = 760\n",
    "salary = 70000\n",
    "\n",
    "if cibil_score >= 750:\n",
    "    print('CIBIL score is greater than 750  and is eligible for loan')\n",
    "    \n",
    "    if salary >= 50000:\n",
    "        print('Salary is greater than 50000 and is elegible for loan')\n",
    "        \n",
    "        if age >= 25 and age <= 60:\n",
    "            print('Age is within criteria and you are eligible for loan')\n",
    "            print('Loan Approved !!')\n",
    "            \n",
    "        else:\n",
    "            print('Eligible on CIBIL Score and Salary but Age does not fulfull the criteria')\n",
    "            print('Declined due to Age criteria')\n",
    "        \n",
    "    else:\n",
    "        print('Eligible on CIBIL Score But not on Salary')\n",
    "        print('Declined due to low Salary')\n",
    "    \n",
    "else:\n",
    "    print('Declined due to low CIBIL Score')"
   ]
  },
  {
   "cell_type": "code",
   "execution_count": 98,
   "id": "12ed571d",
   "metadata": {},
   "outputs": [
    {
     "name": "stdout",
     "output_type": "stream",
     "text": [
      "Declined due to low CIBIL Score\n"
     ]
    }
   ],
   "source": [
    "# Loan >> Approve/ Decline\n",
    "\n",
    "age = 25\n",
    "cibil_score = 710\n",
    "salary = 70000\n",
    "\n",
    "if cibil_score >= 750:\n",
    "    print('CIBIL score is greater than 750  and is eligible for loan')\n",
    "    \n",
    "    if salary >= 50000:\n",
    "        print('Salary is greater than 50000 and is elegible for loan')\n",
    "        \n",
    "        if age >= 25 and age <= 60:\n",
    "            print('Age is within criteria and you are eligible for loan')\n",
    "            print('Loan Approved !!')\n",
    "            \n",
    "        else:\n",
    "            print('Eligible on CIBIL Score and Salary but Age does not fulfull the criteria')\n",
    "            print('Declined due to Age criteria')\n",
    "        \n",
    "    else:\n",
    "        print('Eligible on CIBIL Score But not on Salary')\n",
    "        print('Declined due to low Salary')\n",
    "    \n",
    "else:\n",
    "    print('Declined due to low CIBIL Score')\n"
   ]
  },
  {
   "cell_type": "code",
   "execution_count": 99,
   "id": "03ad19a5",
   "metadata": {},
   "outputs": [
    {
     "name": "stdout",
     "output_type": "stream",
     "text": [
      "CIBIL score is greater than 750  and is eligible for loan\n",
      "Eligible on CIBIL Score But not on Salary\n",
      "Declined due to low Salary\n"
     ]
    }
   ],
   "source": [
    "# Loan >> Approve/ Decline\n",
    "\n",
    "age = 25\n",
    "cibil_score = 760\n",
    "salary = 40000\n",
    "\n",
    "if cibil_score >= 750:\n",
    "    print('CIBIL score is greater than 750  and is eligible for loan')\n",
    "    \n",
    "    if salary >= 50000:\n",
    "        print('Salary is greater than 50000 and is elegible for loan')\n",
    "        \n",
    "        if age >= 25 and age <= 60:\n",
    "            print('Age is within criteria and you are eligible for loan')\n",
    "            print('Loan Approved !!')\n",
    "            \n",
    "        else:\n",
    "            print('Eligible on CIBIL Score and Salary but Age does not fulfull the criteria')\n",
    "            print('Declined due to Age criteria')\n",
    "        \n",
    "    else:\n",
    "        print('Eligible on CIBIL Score But not on Salary')\n",
    "        print('Declined due to low Salary')\n",
    "    \n",
    "else:\n",
    "    print('Declined due to low CIBIL Score')"
   ]
  },
  {
   "cell_type": "code",
   "execution_count": 100,
   "id": "55501fb5",
   "metadata": {},
   "outputs": [
    {
     "name": "stdout",
     "output_type": "stream",
     "text": [
      "CIBIL score is greater than 750  and is eligible for loan\n",
      "Salary is greater than 50000 and is elegible for loan\n",
      "Eligible on CIBIL Score and Salary but Age does not fulfull the criteria\n",
      "Declined due to Age criteria\n"
     ]
    }
   ],
   "source": [
    "# Loan >> Approve/ Decline\n",
    "\n",
    "age = 61\n",
    "cibil_score = 760\n",
    "salary = 70000\n",
    "\n",
    "if cibil_score >= 750:\n",
    "    print('CIBIL score is greater than 750  and is eligible for loan')\n",
    "    \n",
    "    if salary >= 50000:\n",
    "        print('Salary is greater than 50000 and is elegible for loan')\n",
    "        \n",
    "        if age >= 25 and age <= 60:\n",
    "            print('Age is within criteria and you are eligible for loan')\n",
    "            print('Loan Approved !!')\n",
    "            \n",
    "        else:\n",
    "            print('Eligible on CIBIL Score and Salary but Age does not fulfull the criteria')\n",
    "            print('Declined due to Age criteria')\n",
    "        \n",
    "    else:\n",
    "        print('Eligible on CIBIL Score But not on Salary')\n",
    "        print('Declined due to low Salary')\n",
    "    \n",
    "else:\n",
    "    print('Declined due to low CIBIL Score')"
   ]
  },
  {
   "cell_type": "code",
   "execution_count": 101,
   "id": "04155c9c",
   "metadata": {},
   "outputs": [
    {
     "name": "stdout",
     "output_type": "stream",
     "text": [
      "Enter Age:35\n",
      "Enter CIBIL Score:780\n",
      "Enter Salary:65000\n",
      "CIBIL score is greater than 750  and is eligible for loan\n",
      "Salary is greater than 50000 and is elegible for loan\n",
      "Age is within criteria and you are eligible for loan\n",
      "Loan Approved !!\n"
     ]
    }
   ],
   "source": [
    "# Loan >> Approve/ Decline\n",
    "\n",
    "age = eval(input('Enter Age:'))\n",
    "cibil_score = eval(input('Enter CIBIL Score:'))\n",
    "salary = eval(input('Enter Salary:'))\n",
    "\n",
    "if cibil_score >= 750:\n",
    "    print('CIBIL score is greater than 750  and is eligible for loan')\n",
    "    \n",
    "    if salary >= 50000:\n",
    "        print('Salary is greater than 50000 and is elegible for loan')\n",
    "        \n",
    "        if age >= 25 and age <= 60:\n",
    "            print('Age is within criteria and you are eligible for loan')\n",
    "            print('Loan Approved !!')\n",
    "            \n",
    "        else:\n",
    "            print('Eligible on CIBIL Score and Salary but Age does not fulfull the criteria')\n",
    "            print('Declined due to Age criteria')\n",
    "        \n",
    "    else:\n",
    "        print('Eligible on CIBIL Score But not on Salary')\n",
    "        print('Declined due to low Salary')\n",
    "    \n",
    "else:\n",
    "    print('Declined due to low CIBIL Score')"
   ]
  },
  {
   "cell_type": "code",
   "execution_count": 102,
   "id": "8e1a7d27",
   "metadata": {},
   "outputs": [
    {
     "name": "stdout",
     "output_type": "stream",
     "text": [
      "Enter Age:24\n",
      "Enter CIBIL Score:790\n",
      "Enter Salary:45000\n",
      "CIBIL score is greater than 750  and is eligible for loan\n",
      "Eligible on CIBIL Score But not on Salary\n",
      "Declined due to low Salary\n"
     ]
    }
   ],
   "source": [
    "# Loan >> Approve/ Decline\n",
    "\n",
    "age = eval(input('Enter Age:'))\n",
    "cibil_score = eval(input('Enter CIBIL Score:'))\n",
    "salary = eval(input('Enter Salary:'))\n",
    "\n",
    "if cibil_score >= 750:\n",
    "    print('CIBIL score is greater than 750  and is eligible for loan')\n",
    "    \n",
    "    if salary >= 50000:\n",
    "        print('Salary is greater than 50000 and is elegible for loan')\n",
    "        \n",
    "        if age >= 25 and age <= 60:\n",
    "            print('Age is within criteria and you are eligible for loan')\n",
    "            print('Loan Approved !!')\n",
    "            \n",
    "        else:\n",
    "            print('Eligible on CIBIL Score and Salary but Age does not fulfull the criteria')\n",
    "            print('Declined due to Age criteria')\n",
    "        \n",
    "    else:\n",
    "        print('Eligible on CIBIL Score But not on Salary')\n",
    "        print('Declined due to low Salary')\n",
    "    \n",
    "else:\n",
    "    print('Declined due to low CIBIL Score')"
   ]
  },
  {
   "cell_type": "code",
   "execution_count": 104,
   "id": "fab65b46",
   "metadata": {},
   "outputs": [
    {
     "name": "stdout",
     "output_type": "stream",
     "text": [
      "Enter Something:12\n"
     ]
    },
    {
     "data": {
      "text/plain": [
       "'12'"
      ]
     },
     "execution_count": 104,
     "metadata": {},
     "output_type": "execute_result"
    }
   ],
   "source": [
    "input('Enter Something:')"
   ]
  },
  {
   "cell_type": "code",
   "execution_count": 105,
   "id": "74404b30",
   "metadata": {},
   "outputs": [
    {
     "name": "stdout",
     "output_type": "stream",
     "text": [
      "Enter Something:12\n"
     ]
    },
    {
     "data": {
      "text/plain": [
       "12"
      ]
     },
     "execution_count": 105,
     "metadata": {},
     "output_type": "execute_result"
    }
   ],
   "source": [
    "int(input('Enter Something:'))"
   ]
  },
  {
   "cell_type": "code",
   "execution_count": 107,
   "id": "1ba6ff08",
   "metadata": {},
   "outputs": [
    {
     "name": "stdout",
     "output_type": "stream",
     "text": [
      "Enter Weight:75.2\n"
     ]
    },
    {
     "ename": "ValueError",
     "evalue": "invalid literal for int() with base 10: '75.2'",
     "output_type": "error",
     "traceback": [
      "\u001b[1;31m---------------------------------------------------------------------------\u001b[0m",
      "\u001b[1;31mValueError\u001b[0m                                Traceback (most recent call last)",
      "Input \u001b[1;32mIn [107]\u001b[0m, in \u001b[0;36m<cell line: 1>\u001b[1;34m()\u001b[0m\n\u001b[1;32m----> 1\u001b[0m \u001b[38;5;28;43mint\u001b[39;49m\u001b[43m(\u001b[49m\u001b[38;5;28;43minput\u001b[39;49m\u001b[43m(\u001b[49m\u001b[38;5;124;43m'\u001b[39;49m\u001b[38;5;124;43mEnter Weight:\u001b[39;49m\u001b[38;5;124;43m'\u001b[39;49m\u001b[43m)\u001b[49m\u001b[43m)\u001b[49m\n",
      "\u001b[1;31mValueError\u001b[0m: invalid literal for int() with base 10: '75.2'"
     ]
    }
   ],
   "source": [
    "int(input('Enter Weight:'))"
   ]
  },
  {
   "cell_type": "code",
   "execution_count": 108,
   "id": "bbb0a2f8",
   "metadata": {},
   "outputs": [
    {
     "name": "stdout",
     "output_type": "stream",
     "text": [
      "Enter Weight:75.2\n"
     ]
    },
    {
     "data": {
      "text/plain": [
       "75.2"
      ]
     },
     "execution_count": 108,
     "metadata": {},
     "output_type": "execute_result"
    }
   ],
   "source": [
    "float(input('Enter Weight:'))"
   ]
  },
  {
   "cell_type": "code",
   "execution_count": 109,
   "id": "7cbbdbf8",
   "metadata": {},
   "outputs": [
    {
     "name": "stdout",
     "output_type": "stream",
     "text": [
      "Enter Weight:12\n"
     ]
    },
    {
     "data": {
      "text/plain": [
       "12"
      ]
     },
     "execution_count": 109,
     "metadata": {},
     "output_type": "execute_result"
    }
   ],
   "source": [
    "eval(input('Enter Weight:'))"
   ]
  },
  {
   "cell_type": "code",
   "execution_count": 110,
   "id": "fe625388",
   "metadata": {},
   "outputs": [
    {
     "name": "stdout",
     "output_type": "stream",
     "text": [
      "Enter Weight:10.2\n"
     ]
    },
    {
     "data": {
      "text/plain": [
       "10.2"
      ]
     },
     "execution_count": 110,
     "metadata": {},
     "output_type": "execute_result"
    }
   ],
   "source": [
    "eval(input('Enter Weight:'))"
   ]
  },
  {
   "cell_type": "code",
   "execution_count": 111,
   "id": "19f702a5",
   "metadata": {},
   "outputs": [
    {
     "name": "stdout",
     "output_type": "stream",
     "text": [
      "Enter Weight:'Vrushabh'\n"
     ]
    },
    {
     "data": {
      "text/plain": [
       "'Vrushabh'"
      ]
     },
     "execution_count": 111,
     "metadata": {},
     "output_type": "execute_result"
    }
   ],
   "source": [
    "eval(input('Enter Weight:'))"
   ]
  },
  {
   "cell_type": "code",
   "execution_count": 112,
   "id": "0f155b0a",
   "metadata": {},
   "outputs": [
    {
     "name": "stdout",
     "output_type": "stream",
     "text": [
      "Enter Weight:[1,2,3]\n"
     ]
    },
    {
     "data": {
      "text/plain": [
       "[1, 2, 3]"
      ]
     },
     "execution_count": 112,
     "metadata": {},
     "output_type": "execute_result"
    }
   ],
   "source": [
    "eval(input('Enter Weight:'))"
   ]
  },
  {
   "cell_type": "code",
   "execution_count": null,
   "id": "fa892456",
   "metadata": {},
   "outputs": [],
   "source": []
  }
 ],
 "metadata": {
  "kernelspec": {
   "display_name": "Python 3 (ipykernel)",
   "language": "python",
   "name": "python3"
  },
  "language_info": {
   "codemirror_mode": {
    "name": "ipython",
    "version": 3
   },
   "file_extension": ".py",
   "mimetype": "text/x-python",
   "name": "python",
   "nbconvert_exporter": "python",
   "pygments_lexer": "ipython3",
   "version": "3.10.6"
  }
 },
 "nbformat": 4,
 "nbformat_minor": 5
}
